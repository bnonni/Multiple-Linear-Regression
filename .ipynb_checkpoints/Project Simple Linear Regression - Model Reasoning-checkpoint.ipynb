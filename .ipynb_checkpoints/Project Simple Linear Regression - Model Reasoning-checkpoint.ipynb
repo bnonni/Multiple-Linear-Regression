{
 "cells": [
  {
   "cell_type": "markdown",
   "metadata": {},
   "source": [
    "### Reasoning - Data Integrity\n",
    "After my inital linear model based on the feature \"living area,\" I've eliminated 8 data points they are outliers with high leverage, thus, skewing the data. As such, these data points are less representative of the population as a whole and can be ignored for the purposes of fitting a simple linear model.\n",
    "\n",
    "### Reasoning - Best Feature\n",
    "Living area is the best metric to use to train the linear model because it incorporates multiple of the other features within it: first floor living space & bath. The correlation between living area and both first floor sq ft and bath and high enough to justify this reasoning. Additionally, from an intuitive standpoint, one would assume that an increase in the metric \"firstfloor sqft\" will lead to an increase in the \"living area\" metric; if both firstfloor sqft and overall living area are increased, the \"bath\" metric will likely also increase to accommodate the additional living area/sqft in a home. Thus, I will not need to use them in my model because these can be accurately represented by the feature \"living area.\"\n"
   ]
  },
  {
   "cell_type": "code",
   "execution_count": null,
   "metadata": {
    "collapsed": true
   },
   "outputs": [],
   "source": []
  }
 ],
 "metadata": {
  "kernelspec": {
   "display_name": "Python 3",
   "language": "python",
   "name": "python3"
  },
  "language_info": {
   "codemirror_mode": {
    "name": "ipython",
    "version": 3
   },
   "file_extension": ".py",
   "mimetype": "text/x-python",
   "name": "python",
   "nbconvert_exporter": "python",
   "pygments_lexer": "ipython3",
   "version": "3.6.4"
  }
 },
 "nbformat": 4,
 "nbformat_minor": 2
}
